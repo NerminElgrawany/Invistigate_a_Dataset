{
 "cells": [
  {
   "cell_type": "code",
   "execution_count": null,
   "metadata": {},
   "outputs": [],
   "source": []
  },
  {
   "cell_type": "markdown",
   "metadata": {},
   "source": [
    "> **Tip**: Welcome to the Investigate a Dataset project! You will find tips in quoted sections like this to help organize your approach to your investigation. Before submitting your project, it will be a good idea to go back through your report and remove these sections to make the presentation of your work as tidy as possible. First things first, you might want to double-click this Markdown cell and change the title so that it reflects your dataset and investigation.\n",
    "\n",
    "# Project: Investigate a Dataset of Gapminder World\n",
    "\n",
    "## Table of Contents\n",
    "<ul>\n",
    "<li><a href=\"#intro\">Introduction</a></li>\n",
    "<li><a href=\"#wrangling\">Data Wrangling</a></li>\n",
    "<li><a href=\"#eda\">Exploratory Data Analysis</a></li>\n",
    "<li><a href=\"#conclusions\">Conclusions</a></li>\n",
    "</ul>"
   ]
  },
  {
   "cell_type": "markdown",
   "metadata": {},
   "source": [
    "<a id='intro'></a>\n",
    "## Introduction\n",
    "\n",
    "> **Tip**: In this section of the report, provide a brief introduction to the dataset you've selected for analysis. At the end of this section, describe the questions that you plan on exploring over the course of the report. Try to build your report around the analysis of at least one dependent variable and three independent variables. If you're not sure what questions to ask, then make sure you familiarize yourself with the dataset, its variables and the dataset context for ideas of what to explore.\n",
    "\n",
    "> If you haven't yet selected and downloaded your data, make sure you do that first before coming back here. In order to work with the data in this workspace, you also need to upload it to the workspace. To do so, click on the jupyter icon in the upper left to be taken back to the workspace directory. There should be an 'Upload' button in the upper right that will let you add your data file(s) to the workspace. You can then click on the .ipynb file name to come back here."
   ]
  },
  {
   "cell_type": "code",
   "execution_count": 1,
   "metadata": {},
   "outputs": [],
   "source": [
    "# Use this cell to set up import statements for all of the packages that you\n",
    "#   plan to use.\n",
    "\n",
    "# Remember to include a 'magic word' so that your visualizations are plotted\n",
    "#   inline with the notebook. See this page for more:\n",
    "#   http://ipython.readthedocs.io/en/stable/interactive/magics.html\n",
    "import pandas as pd\n",
    "import numpy as np\n",
    "import matplotlib.pyplot as plt\n",
    "% matplotlib inline"
   ]
  },
  {
   "cell_type": "markdown",
   "metadata": {},
   "source": [
    "<a id='wrangling'></a>\n",
    "## Data Wrangling\n",
    "\n",
    "> **Tip**: In this section of the report, you will load in the data, check for cleanliness, and then trim and clean your dataset for analysis. Make sure that you document your steps carefully and justify your cleaning decisions.\n",
    "\n",
    "### General Properties"
   ]
  },
  {
   "cell_type": "code",
   "execution_count": 2,
   "metadata": {},
   "outputs": [
    {
     "data": {
      "text/html": [
       "<div>\n",
       "<style>\n",
       "    .dataframe thead tr:only-child th {\n",
       "        text-align: right;\n",
       "    }\n",
       "\n",
       "    .dataframe thead th {\n",
       "        text-align: left;\n",
       "    }\n",
       "\n",
       "    .dataframe tbody tr th {\n",
       "        vertical-align: top;\n",
       "    }\n",
       "</style>\n",
       "<table border=\"1\" class=\"dataframe\">\n",
       "  <thead>\n",
       "    <tr style=\"text-align: right;\">\n",
       "      <th></th>\n",
       "      <th>Country</th>\n",
       "      <th>1980</th>\n",
       "      <th>1981</th>\n",
       "      <th>1982</th>\n",
       "      <th>1983</th>\n",
       "      <th>1984</th>\n",
       "      <th>1985</th>\n",
       "      <th>1986</th>\n",
       "      <th>1987</th>\n",
       "      <th>1988</th>\n",
       "      <th>...</th>\n",
       "      <th>1998</th>\n",
       "      <th>1999</th>\n",
       "      <th>2000</th>\n",
       "      <th>2001</th>\n",
       "      <th>2002</th>\n",
       "      <th>2003</th>\n",
       "      <th>2004</th>\n",
       "      <th>2005</th>\n",
       "      <th>2006</th>\n",
       "      <th>2007</th>\n",
       "    </tr>\n",
       "  </thead>\n",
       "  <tbody>\n",
       "    <tr>\n",
       "      <th>0</th>\n",
       "      <td>Afghanistan</td>\n",
       "      <td>66.500000</td>\n",
       "      <td>66.300003</td>\n",
       "      <td>66.199997</td>\n",
       "      <td>66.099998</td>\n",
       "      <td>66.000000</td>\n",
       "      <td>65.900002</td>\n",
       "      <td>65.699997</td>\n",
       "      <td>65.599998</td>\n",
       "      <td>65.500000</td>\n",
       "      <td>...</td>\n",
       "      <td>64.300003</td>\n",
       "      <td>64.300003</td>\n",
       "      <td>64.300003</td>\n",
       "      <td>64.300003</td>\n",
       "      <td>64.400002</td>\n",
       "      <td>64.500000</td>\n",
       "      <td>64.599998</td>\n",
       "      <td>64.699997</td>\n",
       "      <td>64.900002</td>\n",
       "      <td>64.800003</td>\n",
       "    </tr>\n",
       "    <tr>\n",
       "      <th>1</th>\n",
       "      <td>Albania</td>\n",
       "      <td>89.400002</td>\n",
       "      <td>89.300003</td>\n",
       "      <td>89.199997</td>\n",
       "      <td>89.000000</td>\n",
       "      <td>88.900002</td>\n",
       "      <td>88.900002</td>\n",
       "      <td>88.800003</td>\n",
       "      <td>89.000000</td>\n",
       "      <td>89.199997</td>\n",
       "      <td>...</td>\n",
       "      <td>76.300003</td>\n",
       "      <td>76.900002</td>\n",
       "      <td>77.199997</td>\n",
       "      <td>77.500000</td>\n",
       "      <td>77.599998</td>\n",
       "      <td>77.800003</td>\n",
       "      <td>78.000000</td>\n",
       "      <td>78.099998</td>\n",
       "      <td>78.199997</td>\n",
       "      <td>78.500000</td>\n",
       "    </tr>\n",
       "    <tr>\n",
       "      <th>2</th>\n",
       "      <td>Algeria</td>\n",
       "      <td>57.200001</td>\n",
       "      <td>57.400002</td>\n",
       "      <td>57.599998</td>\n",
       "      <td>57.599998</td>\n",
       "      <td>57.700001</td>\n",
       "      <td>57.799999</td>\n",
       "      <td>58.299999</td>\n",
       "      <td>58.799999</td>\n",
       "      <td>59.299999</td>\n",
       "      <td>...</td>\n",
       "      <td>65.199997</td>\n",
       "      <td>65.800003</td>\n",
       "      <td>66.400002</td>\n",
       "      <td>66.900002</td>\n",
       "      <td>67.400002</td>\n",
       "      <td>67.800003</td>\n",
       "      <td>68.199997</td>\n",
       "      <td>68.599998</td>\n",
       "      <td>68.900002</td>\n",
       "      <td>69.599998</td>\n",
       "    </tr>\n",
       "    <tr>\n",
       "      <th>3</th>\n",
       "      <td>Angola</td>\n",
       "      <td>86.900002</td>\n",
       "      <td>86.900002</td>\n",
       "      <td>87.000000</td>\n",
       "      <td>87.000000</td>\n",
       "      <td>87.099998</td>\n",
       "      <td>87.099998</td>\n",
       "      <td>87.099998</td>\n",
       "      <td>87.199997</td>\n",
       "      <td>87.599998</td>\n",
       "      <td>...</td>\n",
       "      <td>86.900002</td>\n",
       "      <td>87.099998</td>\n",
       "      <td>87.000000</td>\n",
       "      <td>87.000000</td>\n",
       "      <td>87.300003</td>\n",
       "      <td>87.199997</td>\n",
       "      <td>87.400002</td>\n",
       "      <td>87.699997</td>\n",
       "      <td>88.199997</td>\n",
       "      <td>88.500000</td>\n",
       "    </tr>\n",
       "    <tr>\n",
       "      <th>4</th>\n",
       "      <td>Argentina</td>\n",
       "      <td>64.599998</td>\n",
       "      <td>64.000000</td>\n",
       "      <td>63.599998</td>\n",
       "      <td>63.200001</td>\n",
       "      <td>64.199997</td>\n",
       "      <td>65.099998</td>\n",
       "      <td>65.300003</td>\n",
       "      <td>65.400002</td>\n",
       "      <td>65.699997</td>\n",
       "      <td>...</td>\n",
       "      <td>75.699997</td>\n",
       "      <td>76.400002</td>\n",
       "      <td>77.099998</td>\n",
       "      <td>77.699997</td>\n",
       "      <td>78.400002</td>\n",
       "      <td>79.000000</td>\n",
       "      <td>79.699997</td>\n",
       "      <td>80.300003</td>\n",
       "      <td>80.900002</td>\n",
       "      <td>81.000000</td>\n",
       "    </tr>\n",
       "  </tbody>\n",
       "</table>\n",
       "<p>5 rows × 29 columns</p>\n",
       "</div>"
      ],
      "text/plain": [
       "       Country       1980       1981       1982       1983       1984  \\\n",
       "0  Afghanistan  66.500000  66.300003  66.199997  66.099998  66.000000   \n",
       "1      Albania  89.400002  89.300003  89.199997  89.000000  88.900002   \n",
       "2      Algeria  57.200001  57.400002  57.599998  57.599998  57.700001   \n",
       "3       Angola  86.900002  86.900002  87.000000  87.000000  87.099998   \n",
       "4    Argentina  64.599998  64.000000  63.599998  63.200001  64.199997   \n",
       "\n",
       "        1985       1986       1987       1988    ...           1998  \\\n",
       "0  65.900002  65.699997  65.599998  65.500000    ...      64.300003   \n",
       "1  88.900002  88.800003  89.000000  89.199997    ...      76.300003   \n",
       "2  57.799999  58.299999  58.799999  59.299999    ...      65.199997   \n",
       "3  87.099998  87.099998  87.199997  87.599998    ...      86.900002   \n",
       "4  65.099998  65.300003  65.400002  65.699997    ...      75.699997   \n",
       "\n",
       "        1999       2000       2001       2002       2003       2004  \\\n",
       "0  64.300003  64.300003  64.300003  64.400002  64.500000  64.599998   \n",
       "1  76.900002  77.199997  77.500000  77.599998  77.800003  78.000000   \n",
       "2  65.800003  66.400002  66.900002  67.400002  67.800003  68.199997   \n",
       "3  87.099998  87.000000  87.000000  87.300003  87.199997  87.400002   \n",
       "4  76.400002  77.099998  77.699997  78.400002  79.000000  79.699997   \n",
       "\n",
       "        2005       2006       2007  \n",
       "0  64.699997  64.900002  64.800003  \n",
       "1  78.099998  78.199997  78.500000  \n",
       "2  68.599998  68.900002  69.599998  \n",
       "3  87.699997  88.199997  88.500000  \n",
       "4  80.300003  80.900002  81.000000  \n",
       "\n",
       "[5 rows x 29 columns]"
      ]
     },
     "execution_count": 2,
     "metadata": {},
     "output_type": "execute_result"
    }
   ],
   "source": [
    "# Load your data and print out a few lines. Perform operations to inspect data\n",
    "#   types and look for instances of missing or possibly errant data.\n",
    "\n",
    "#loading the csv files and storing it in the variables \"lab_df, fem_df\"\n",
    "lab_df = pd.read_csv('indicator labour.csv')\n",
    "fem_df = pd.read_csv('labour female.csv')\n",
    "#return the first five rows with defined columns of the data frame\n",
    "lab_df.head()"
   ]
  },
  {
   "cell_type": "code",
   "execution_count": 3,
   "metadata": {},
   "outputs": [
    {
     "data": {
      "text/plain": [
       "(189, 29)"
      ]
     },
     "execution_count": 3,
     "metadata": {},
     "output_type": "execute_result"
    }
   ],
   "source": [
    "#return the dimension of the \"lab_df\" data frame (number of rows and columns)\n",
    "lab_df.shape"
   ]
  },
  {
   "cell_type": "code",
   "execution_count": 4,
   "metadata": {},
   "outputs": [
    {
     "name": "stdout",
     "output_type": "stream",
     "text": [
      "<class 'pandas.core.frame.DataFrame'>\n",
      "RangeIndex: 189 entries, 0 to 188\n",
      "Data columns (total 29 columns):\n",
      "Country    189 non-null object\n",
      "1980       189 non-null float64\n",
      "1981       189 non-null float64\n",
      "1982       189 non-null float64\n",
      "1983       189 non-null float64\n",
      "1984       189 non-null float64\n",
      "1985       189 non-null float64\n",
      "1986       189 non-null float64\n",
      "1987       189 non-null float64\n",
      "1988       189 non-null float64\n",
      "1989       189 non-null float64\n",
      "1990       189 non-null float64\n",
      "1991       189 non-null float64\n",
      "1992       189 non-null float64\n",
      "1993       189 non-null float64\n",
      "1994       189 non-null float64\n",
      "1995       189 non-null float64\n",
      "1996       189 non-null float64\n",
      "1997       189 non-null float64\n",
      "1998       189 non-null float64\n",
      "1999       189 non-null float64\n",
      "2000       189 non-null float64\n",
      "2001       189 non-null float64\n",
      "2002       189 non-null float64\n",
      "2003       189 non-null float64\n",
      "2004       189 non-null float64\n",
      "2005       189 non-null float64\n",
      "2006       189 non-null float64\n",
      "2007       189 non-null float64\n",
      "dtypes: float64(28), object(1)\n",
      "memory usage: 42.9+ KB\n"
     ]
    }
   ],
   "source": [
    "#return the information of \"lab_df\" data frame including total number of columns, null values and data type of every column.\n",
    "lab_df.info()"
   ]
  },
  {
   "cell_type": "code",
   "execution_count": 5,
   "metadata": {},
   "outputs": [
    {
     "data": {
      "text/plain": [
       "(189, 29)"
      ]
     },
     "execution_count": 5,
     "metadata": {},
     "output_type": "execute_result"
    }
   ],
   "source": [
    "#return the dimension of the \"fem_df\" data frame (number of rows and columns)\n",
    "fem_df.shape"
   ]
  },
  {
   "cell_type": "code",
   "execution_count": 6,
   "metadata": {},
   "outputs": [
    {
     "name": "stdout",
     "output_type": "stream",
     "text": [
      "<class 'pandas.core.frame.DataFrame'>\n",
      "RangeIndex: 189 entries, 0 to 188\n",
      "Data columns (total 29 columns):\n",
      "Country    189 non-null object\n",
      "1980       189 non-null float64\n",
      "1981       189 non-null float64\n",
      "1982       189 non-null float64\n",
      "1983       189 non-null float64\n",
      "1984       189 non-null float64\n",
      "1985       189 non-null float64\n",
      "1986       189 non-null float64\n",
      "1987       189 non-null float64\n",
      "1988       189 non-null float64\n",
      "1989       189 non-null float64\n",
      "1990       189 non-null float64\n",
      "1991       189 non-null float64\n",
      "1992       189 non-null float64\n",
      "1993       189 non-null float64\n",
      "1994       189 non-null float64\n",
      "1995       189 non-null float64\n",
      "1996       189 non-null float64\n",
      "1997       189 non-null float64\n",
      "1998       189 non-null float64\n",
      "1999       189 non-null float64\n",
      "2000       189 non-null float64\n",
      "2001       189 non-null float64\n",
      "2002       189 non-null float64\n",
      "2003       189 non-null float64\n",
      "2004       189 non-null float64\n",
      "2005       189 non-null float64\n",
      "2006       189 non-null float64\n",
      "2007       189 non-null float64\n",
      "dtypes: float64(28), object(1)\n",
      "memory usage: 42.9+ KB\n"
     ]
    }
   ],
   "source": [
    "#return the information of \"fem_df\" data frame including total number of columns, null values and data type of every column.\n",
    "fem_df.info()"
   ]
  },
  {
   "cell_type": "markdown",
   "metadata": {},
   "source": [
    "> **Tip**: You should _not_ perform too many operations in each cell. Create cells freely to explore your data. One option that you can take with this project is to do a lot of explorations in an initial notebook. These don't have to be organized, but make sure you use enough comments to understand the purpose of each code cell. Then, after you're done with your analysis, create a duplicate notebook where you will trim the excess and organize your steps so that you have a flowing, cohesive report.\n",
    "\n",
    "> **Tip**: Make sure that you keep your reader informed on the steps that you are taking in your investigation. Follow every code cell, or every set of related code cells, with a markdown cell to describe to the reader what was found in the preceding cell(s). Try to make it so that the reader can then understand what they will be seeing in the following cell(s).\n",
    "\n",
    "### Data Cleaning (using .duplicated function to return the number of duplicated values, also using .isnull function to return the number of null values)"
   ]
  },
  {
   "cell_type": "code",
   "execution_count": 7,
   "metadata": {},
   "outputs": [
    {
     "data": {
      "text/plain": [
       "0"
      ]
     },
     "execution_count": 7,
     "metadata": {},
     "output_type": "execute_result"
    }
   ],
   "source": [
    "# After discussing the structure of the data and any problems that need to be\n",
    "#   cleaned, perform those cleaning steps in the second part of this section.\n",
    "\n",
    "##return the total number of duplicated values in \"lab_df\" data frame.\n",
    "sum(lab_df.duplicated())"
   ]
  },
  {
   "cell_type": "code",
   "execution_count": 8,
   "metadata": {},
   "outputs": [
    {
     "data": {
      "text/plain": [
       "Country    0\n",
       "1980       0\n",
       "1981       0\n",
       "1982       0\n",
       "1983       0\n",
       "1984       0\n",
       "1985       0\n",
       "1986       0\n",
       "1987       0\n",
       "1988       0\n",
       "1989       0\n",
       "1990       0\n",
       "1991       0\n",
       "1992       0\n",
       "1993       0\n",
       "1994       0\n",
       "1995       0\n",
       "1996       0\n",
       "1997       0\n",
       "1998       0\n",
       "1999       0\n",
       "2000       0\n",
       "2001       0\n",
       "2002       0\n",
       "2003       0\n",
       "2004       0\n",
       "2005       0\n",
       "2006       0\n",
       "2007       0\n",
       "dtype: int64"
      ]
     },
     "execution_count": 8,
     "metadata": {},
     "output_type": "execute_result"
    }
   ],
   "source": [
    "##return the total number of null values for each column in \"lab_df\" data frame.\n",
    "lab_df.isnull().sum()"
   ]
  },
  {
   "cell_type": "code",
   "execution_count": 9,
   "metadata": {},
   "outputs": [
    {
     "data": {
      "text/plain": [
       "0"
      ]
     },
     "execution_count": 9,
     "metadata": {},
     "output_type": "execute_result"
    }
   ],
   "source": [
    "##return the total number of duplicated values in \"femb_df\" data frame.\n",
    "sum(fem_df.duplicated())"
   ]
  },
  {
   "cell_type": "code",
   "execution_count": 10,
   "metadata": {},
   "outputs": [
    {
     "data": {
      "text/plain": [
       "Country    0\n",
       "1980       0\n",
       "1981       0\n",
       "1982       0\n",
       "1983       0\n",
       "1984       0\n",
       "1985       0\n",
       "1986       0\n",
       "1987       0\n",
       "1988       0\n",
       "1989       0\n",
       "1990       0\n",
       "1991       0\n",
       "1992       0\n",
       "1993       0\n",
       "1994       0\n",
       "1995       0\n",
       "1996       0\n",
       "1997       0\n",
       "1998       0\n",
       "1999       0\n",
       "2000       0\n",
       "2001       0\n",
       "2002       0\n",
       "2003       0\n",
       "2004       0\n",
       "2005       0\n",
       "2006       0\n",
       "2007       0\n",
       "dtype: int64"
      ]
     },
     "execution_count": 10,
     "metadata": {},
     "output_type": "execute_result"
    }
   ],
   "source": [
    "##return the total number of null values for each column in \"fem_df\" data frame.\n",
    "fem_df.isnull().sum()"
   ]
  },
  {
   "cell_type": "markdown",
   "metadata": {},
   "source": [
    "# The data cleaning shows that:\n",
    "There are no duplicated or null values in the \"lab_df\" and \"fem_df\" data frames."
   ]
  },
  {
   "cell_type": "markdown",
   "metadata": {},
   "source": [
    "<a id='eda'></a>\n",
    "## Exploratory Data Analysis\n",
    "\n",
    "> **Tip**: Now that you've trimmed and cleaned your data, you're ready to move on to exploration. Compute statistics and create visualizations with the goal of addressing the research questions that you posed in the Introduction section. It is recommended that you be systematic with your approach. Look at one variable at a time, and then follow it up by looking at relationships between variables.\n",
    "\n",
    "### Research Question 1 (Are there trends that can be observed between Total Labour Indicator (%) and Female Labour Indicator (%) in the age between 25-54 in the years 2003-2007 in all countries?)"
   ]
  },
  {
   "cell_type": "code",
   "execution_count": 11,
   "metadata": {},
   "outputs": [
    {
     "data": {
      "text/html": [
       "<div>\n",
       "<style>\n",
       "    .dataframe thead tr:only-child th {\n",
       "        text-align: right;\n",
       "    }\n",
       "\n",
       "    .dataframe thead th {\n",
       "        text-align: left;\n",
       "    }\n",
       "\n",
       "    .dataframe tbody tr th {\n",
       "        vertical-align: top;\n",
       "    }\n",
       "</style>\n",
       "<table border=\"1\" class=\"dataframe\">\n",
       "  <thead>\n",
       "    <tr style=\"text-align: right;\">\n",
       "      <th></th>\n",
       "      <th>Country</th>\n",
       "      <th>2003_labour</th>\n",
       "      <th>2004_labour</th>\n",
       "      <th>2005_labour</th>\n",
       "      <th>2006_labour</th>\n",
       "      <th>2007_labour</th>\n",
       "      <th>2003_female</th>\n",
       "      <th>2004_female</th>\n",
       "      <th>2005_female</th>\n",
       "      <th>2006_female</th>\n",
       "      <th>2007_female</th>\n",
       "    </tr>\n",
       "  </thead>\n",
       "  <tbody>\n",
       "    <tr>\n",
       "      <th>0</th>\n",
       "      <td>Afghanistan</td>\n",
       "      <td>64.500000</td>\n",
       "      <td>64.599998</td>\n",
       "      <td>64.699997</td>\n",
       "      <td>64.900002</td>\n",
       "      <td>64.800003</td>\n",
       "      <td>28.000000</td>\n",
       "      <td>28.299999</td>\n",
       "      <td>28.600000</td>\n",
       "      <td>28.900000</td>\n",
       "      <td>28.600000</td>\n",
       "    </tr>\n",
       "    <tr>\n",
       "      <th>1</th>\n",
       "      <td>Albania</td>\n",
       "      <td>77.800003</td>\n",
       "      <td>78.000000</td>\n",
       "      <td>78.099998</td>\n",
       "      <td>78.199997</td>\n",
       "      <td>78.500000</td>\n",
       "      <td>66.300003</td>\n",
       "      <td>66.500000</td>\n",
       "      <td>66.699997</td>\n",
       "      <td>66.699997</td>\n",
       "      <td>67.400002</td>\n",
       "    </tr>\n",
       "    <tr>\n",
       "      <th>2</th>\n",
       "      <td>Algeria</td>\n",
       "      <td>67.800003</td>\n",
       "      <td>68.199997</td>\n",
       "      <td>68.599998</td>\n",
       "      <td>68.900002</td>\n",
       "      <td>69.599998</td>\n",
       "      <td>40.299999</td>\n",
       "      <td>41.200001</td>\n",
       "      <td>42.099998</td>\n",
       "      <td>42.900002</td>\n",
       "      <td>44.599998</td>\n",
       "    </tr>\n",
       "    <tr>\n",
       "      <th>3</th>\n",
       "      <td>Angola</td>\n",
       "      <td>87.199997</td>\n",
       "      <td>87.400002</td>\n",
       "      <td>87.699997</td>\n",
       "      <td>88.199997</td>\n",
       "      <td>88.500000</td>\n",
       "      <td>78.400002</td>\n",
       "      <td>79.000000</td>\n",
       "      <td>79.699997</td>\n",
       "      <td>80.800003</td>\n",
       "      <td>81.300003</td>\n",
       "    </tr>\n",
       "    <tr>\n",
       "      <th>4</th>\n",
       "      <td>Argentina</td>\n",
       "      <td>79.000000</td>\n",
       "      <td>79.699997</td>\n",
       "      <td>80.300003</td>\n",
       "      <td>80.900002</td>\n",
       "      <td>81.000000</td>\n",
       "      <td>63.799999</td>\n",
       "      <td>65.000000</td>\n",
       "      <td>66.099998</td>\n",
       "      <td>67.300003</td>\n",
       "      <td>67.500000</td>\n",
       "    </tr>\n",
       "  </tbody>\n",
       "</table>\n",
       "</div>"
      ],
      "text/plain": [
       "       Country  2003_labour  2004_labour  2005_labour  2006_labour  \\\n",
       "0  Afghanistan    64.500000    64.599998    64.699997    64.900002   \n",
       "1      Albania    77.800003    78.000000    78.099998    78.199997   \n",
       "2      Algeria    67.800003    68.199997    68.599998    68.900002   \n",
       "3       Angola    87.199997    87.400002    87.699997    88.199997   \n",
       "4    Argentina    79.000000    79.699997    80.300003    80.900002   \n",
       "\n",
       "   2007_labour  2003_female  2004_female  2005_female  2006_female  \\\n",
       "0    64.800003    28.000000    28.299999    28.600000    28.900000   \n",
       "1    78.500000    66.300003    66.500000    66.699997    66.699997   \n",
       "2    69.599998    40.299999    41.200001    42.099998    42.900002   \n",
       "3    88.500000    78.400002    79.000000    79.699997    80.800003   \n",
       "4    81.000000    63.799999    65.000000    66.099998    67.300003   \n",
       "\n",
       "   2007_female  \n",
       "0    28.600000  \n",
       "1    67.400002  \n",
       "2    44.599998  \n",
       "3    81.300003  \n",
       "4    67.500000  "
      ]
     },
     "execution_count": 11,
     "metadata": {},
     "output_type": "execute_result"
    }
   ],
   "source": [
    "# Use this, and more code cells, to explore your data. Don't forget to add\n",
    "#   Markdown cells to document your observations and findings.\n",
    "\n",
    "##using merge function to merge between the two data frames \"lab_df\" and \"fem_df\" to create \"new_df\" data frame\n",
    "new_df =pd.merge(lab_df.loc[:,['Country', '2003','2004','2005','2006','2007']] ,fem_df.loc[:,['Country','2003','2004','2005','2006','2007']] ,on='Country' , suffixes=('_labour', '_female'))\n",
    "##return the first five rows of \"new_df\" data frame.\n",
    "new_df.head()"
   ]
  },
  {
   "cell_type": "code",
   "execution_count": 12,
   "metadata": {},
   "outputs": [
    {
     "data": {
      "text/html": [
       "<div>\n",
       "<style>\n",
       "    .dataframe thead tr:only-child th {\n",
       "        text-align: right;\n",
       "    }\n",
       "\n",
       "    .dataframe thead th {\n",
       "        text-align: left;\n",
       "    }\n",
       "\n",
       "    .dataframe tbody tr th {\n",
       "        vertical-align: top;\n",
       "    }\n",
       "</style>\n",
       "<table border=\"1\" class=\"dataframe\">\n",
       "  <thead>\n",
       "    <tr style=\"text-align: right;\">\n",
       "      <th></th>\n",
       "      <th>2003_labour</th>\n",
       "      <th>2004_labour</th>\n",
       "      <th>2005_labour</th>\n",
       "      <th>2006_labour</th>\n",
       "      <th>2007_labour</th>\n",
       "      <th>2003_female</th>\n",
       "      <th>2004_female</th>\n",
       "      <th>2005_female</th>\n",
       "      <th>2006_female</th>\n",
       "      <th>2007_female</th>\n",
       "    </tr>\n",
       "  </thead>\n",
       "  <tbody>\n",
       "    <tr>\n",
       "      <th>count</th>\n",
       "      <td>189.000000</td>\n",
       "      <td>189.000000</td>\n",
       "      <td>189.000000</td>\n",
       "      <td>189.000000</td>\n",
       "      <td>189.000000</td>\n",
       "      <td>189.000000</td>\n",
       "      <td>189.000000</td>\n",
       "      <td>189.000000</td>\n",
       "      <td>189.000000</td>\n",
       "      <td>189.000000</td>\n",
       "    </tr>\n",
       "    <tr>\n",
       "      <th>mean</th>\n",
       "      <td>79.580423</td>\n",
       "      <td>79.800529</td>\n",
       "      <td>80.036508</td>\n",
       "      <td>80.323809</td>\n",
       "      <td>80.390476</td>\n",
       "      <td>65.675661</td>\n",
       "      <td>66.152910</td>\n",
       "      <td>66.645503</td>\n",
       "      <td>67.215344</td>\n",
       "      <td>67.362963</td>\n",
       "    </tr>\n",
       "    <tr>\n",
       "      <th>std</th>\n",
       "      <td>8.710063</td>\n",
       "      <td>8.649139</td>\n",
       "      <td>8.642189</td>\n",
       "      <td>8.587696</td>\n",
       "      <td>8.627160</td>\n",
       "      <td>17.933380</td>\n",
       "      <td>17.782263</td>\n",
       "      <td>17.710522</td>\n",
       "      <td>17.591007</td>\n",
       "      <td>17.545922</td>\n",
       "    </tr>\n",
       "    <tr>\n",
       "      <th>min</th>\n",
       "      <td>53.500000</td>\n",
       "      <td>53.900002</td>\n",
       "      <td>53.900002</td>\n",
       "      <td>53.900002</td>\n",
       "      <td>54.099998</td>\n",
       "      <td>17.000000</td>\n",
       "      <td>19.000000</td>\n",
       "      <td>19.299999</td>\n",
       "      <td>19.700001</td>\n",
       "      <td>19.700001</td>\n",
       "    </tr>\n",
       "    <tr>\n",
       "      <th>25%</th>\n",
       "      <td>74.699997</td>\n",
       "      <td>74.800003</td>\n",
       "      <td>75.400002</td>\n",
       "      <td>75.900002</td>\n",
       "      <td>76.000000</td>\n",
       "      <td>55.599998</td>\n",
       "      <td>55.599998</td>\n",
       "      <td>57.599998</td>\n",
       "      <td>57.700001</td>\n",
       "      <td>57.700001</td>\n",
       "    </tr>\n",
       "    <tr>\n",
       "      <th>50%</th>\n",
       "      <td>80.400002</td>\n",
       "      <td>81.000000</td>\n",
       "      <td>81.300003</td>\n",
       "      <td>81.699997</td>\n",
       "      <td>82.099998</td>\n",
       "      <td>68.699997</td>\n",
       "      <td>69.800003</td>\n",
       "      <td>69.900002</td>\n",
       "      <td>70.900002</td>\n",
       "      <td>71.599998</td>\n",
       "    </tr>\n",
       "    <tr>\n",
       "      <th>75%</th>\n",
       "      <td>86.099998</td>\n",
       "      <td>86.300003</td>\n",
       "      <td>86.500000</td>\n",
       "      <td>86.599998</td>\n",
       "      <td>86.699997</td>\n",
       "      <td>79.699997</td>\n",
       "      <td>80.000000</td>\n",
       "      <td>80.699997</td>\n",
       "      <td>81.099998</td>\n",
       "      <td>81.300003</td>\n",
       "    </tr>\n",
       "    <tr>\n",
       "      <th>max</th>\n",
       "      <td>97.099998</td>\n",
       "      <td>97.099998</td>\n",
       "      <td>97.099998</td>\n",
       "      <td>97.199997</td>\n",
       "      <td>97.199997</td>\n",
       "      <td>95.599998</td>\n",
       "      <td>95.699997</td>\n",
       "      <td>95.699997</td>\n",
       "      <td>95.800003</td>\n",
       "      <td>95.800003</td>\n",
       "    </tr>\n",
       "  </tbody>\n",
       "</table>\n",
       "</div>"
      ],
      "text/plain": [
       "       2003_labour  2004_labour  2005_labour  2006_labour  2007_labour  \\\n",
       "count   189.000000   189.000000   189.000000   189.000000   189.000000   \n",
       "mean     79.580423    79.800529    80.036508    80.323809    80.390476   \n",
       "std       8.710063     8.649139     8.642189     8.587696     8.627160   \n",
       "min      53.500000    53.900002    53.900002    53.900002    54.099998   \n",
       "25%      74.699997    74.800003    75.400002    75.900002    76.000000   \n",
       "50%      80.400002    81.000000    81.300003    81.699997    82.099998   \n",
       "75%      86.099998    86.300003    86.500000    86.599998    86.699997   \n",
       "max      97.099998    97.099998    97.099998    97.199997    97.199997   \n",
       "\n",
       "       2003_female  2004_female  2005_female  2006_female  2007_female  \n",
       "count   189.000000   189.000000   189.000000   189.000000   189.000000  \n",
       "mean     65.675661    66.152910    66.645503    67.215344    67.362963  \n",
       "std      17.933380    17.782263    17.710522    17.591007    17.545922  \n",
       "min      17.000000    19.000000    19.299999    19.700001    19.700001  \n",
       "25%      55.599998    55.599998    57.599998    57.700001    57.700001  \n",
       "50%      68.699997    69.800003    69.900002    70.900002    71.599998  \n",
       "75%      79.699997    80.000000    80.699997    81.099998    81.300003  \n",
       "max      95.599998    95.699997    95.699997    95.800003    95.800003  "
      ]
     },
     "execution_count": 12,
     "metadata": {},
     "output_type": "execute_result"
    }
   ],
   "source": [
    "#return statistical summary of the \"new_df\" data frame.\n",
    "new_df.describe()"
   ]
  },
  {
   "cell_type": "markdown",
   "metadata": {},
   "source": [
    "# The Statistical Summary above shows that:\n",
    "1- The min rate of labour was in 2003 (53.50%) and max rate was in 2006 and 2007 (97.19%).\n",
    "2- The female labour min rate was in 2003 (95.59%) and the max rate was in 2006 and 2007 (95.80%)"
   ]
  },
  {
   "cell_type": "code",
   "execution_count": 13,
   "metadata": {},
   "outputs": [
    {
     "data": {
      "image/png": "[encoded data removed]",
      "text/plain": [
       "<matplotlib.figure.Figure at 0x7f373ab02588>"
      ]
     },
     "metadata": {
      "needs_background": "light"
     },
     "output_type": "display_data"
    }
   ],
   "source": [
    "#plotting a histogram of '2003_labour'.\n",
    "data = new_df['2003_labour']\n",
    "plt.hist(data)\n",
    "plt.title('Labour Indicator 2003')\n",
    "plt.xlabel('percentage%')\n",
    "plt.show()"
   ]
  },
  {
   "cell_type": "code",
   "execution_count": 14,
   "metadata": {},
   "outputs": [
    {
     "data": {
      "image/png": "[encoded data removed]",
      "text/plain": [
       "<matplotlib.figure.Figure at 0x7f373ab02e10>"
      ]
     },
     "metadata": {
      "needs_background": "light"
     },
     "output_type": "display_data"
    }
   ],
   "source": [
    "#plotting a histogram of '2007_labour'.\n",
    "data = new_df['2007_labour']\n",
    "plt.hist(data)\n",
    "plt.title('Labour Indicator 2007')\n",
    "plt.xlabel('percentage%')\n",
    "plt.show()"
   ]
  },
  {
   "cell_type": "markdown",
   "metadata": {},
   "source": [
    "# The Histograms show that:\n",
    "The distribution of Labour Indicator in 2003 and 2007, and both are Left-Skewed."
   ]
  },
  {
   "cell_type": "code",
   "execution_count": 15,
   "metadata": {},
   "outputs": [
    {
     "data": {
      "image/png": "[encoded data removed]",
      "text/plain": [
       "<matplotlib.figure.Figure at 0x7f3738a77550>"
      ]
     },
     "metadata": {
      "needs_background": "light"
     },
     "output_type": "display_data"
    }
   ],
   "source": [
    "#plotting a histogram of '2003_labour'.\n",
    "data = new_df['2003_female']\n",
    "plt.hist(data)\n",
    "plt.title('Female Labour Indicator 2003')\n",
    "plt.xlabel('percentage%')\n",
    "plt.show()"
   ]
  },
  {
   "cell_type": "code",
   "execution_count": 16,
   "metadata": {},
   "outputs": [
    {
     "data": {
      "image/png": "[encoded data removed]",
      "text/plain": [
       "<matplotlib.figure.Figure at 0x7f37389a7d68>"
      ]
     },
     "metadata": {
      "needs_background": "light"
     },
     "output_type": "display_data"
    }
   ],
   "source": [
    "#plotting a histogram of '2007_labour'.\n",
    "data = new_df['2007_female']\n",
    "plt.hist(data)\n",
    "plt.title('Female Labour Indicator 2007')\n",
    "plt.xlabel('percentage%')\n",
    "plt.show()"
   ]
  },
  {
   "cell_type": "markdown",
   "metadata": {},
   "source": [
    "# The Histograms show that:\n",
    "The distribution of Female Labour Indicator in 2003 and 2007, and both are Left-Skewed."
   ]
  },
  {
   "cell_type": "markdown",
   "metadata": {},
   "source": [
    "### Research Question 2  (Has Egypt grown in Labour Indicator and Female Labour Indicator better than Singapore?)"
   ]
  },
  {
   "cell_type": "code",
   "execution_count": 17,
   "metadata": {},
   "outputs": [
    {
     "data": {
      "text/html": [
       "<div>\n",
       "<style>\n",
       "    .dataframe thead tr:only-child th {\n",
       "        text-align: right;\n",
       "    }\n",
       "\n",
       "    .dataframe thead th {\n",
       "        text-align: left;\n",
       "    }\n",
       "\n",
       "    .dataframe tbody tr th {\n",
       "        vertical-align: top;\n",
       "    }\n",
       "</style>\n",
       "<table border=\"1\" class=\"dataframe\">\n",
       "  <thead>\n",
       "    <tr style=\"text-align: right;\">\n",
       "      <th></th>\n",
       "      <th>Country</th>\n",
       "      <th>2003_labour</th>\n",
       "      <th>2004_labour</th>\n",
       "      <th>2005_labour</th>\n",
       "      <th>2006_labour</th>\n",
       "      <th>2007_labour</th>\n",
       "    </tr>\n",
       "  </thead>\n",
       "  <tbody>\n",
       "    <tr>\n",
       "      <th>49</th>\n",
       "      <td>Egypt</td>\n",
       "      <td>62.599998</td>\n",
       "      <td>62.799999</td>\n",
       "      <td>62.900002</td>\n",
       "      <td>63.0</td>\n",
       "      <td>63.299999</td>\n",
       "    </tr>\n",
       "  </tbody>\n",
       "</table>\n",
       "</div>"
      ],
      "text/plain": [
       "   Country  2003_labour  2004_labour  2005_labour  2006_labour  2007_labour\n",
       "49   Egypt    62.599998    62.799999    62.900002         63.0    63.299999"
      ]
     },
     "execution_count": 17,
     "metadata": {},
     "output_type": "execute_result"
    }
   ],
   "source": [
    "# Continue to explore the data to address your additional research\n",
    "#   questions. Add more headers as needed if you have more questions to\n",
    "#   investigate.\n",
    "\n",
    "##creating a series \"eg_lab_df\" of selected country \"Egypt\" to return labour indicator from 2003 to 2007.\n",
    "eg_lab_df = new_df.loc[[49], ['Country','2003_labour','2004_labour','2005_labour','2006_labour','2007_labour']]\n",
    "eg_lab_df"
   ]
  },
  {
   "cell_type": "code",
   "execution_count": 18,
   "metadata": {},
   "outputs": [
    {
     "data": {
      "text/html": [
       "<div>\n",
       "<style>\n",
       "    .dataframe thead tr:only-child th {\n",
       "        text-align: right;\n",
       "    }\n",
       "\n",
       "    .dataframe thead th {\n",
       "        text-align: left;\n",
       "    }\n",
       "\n",
       "    .dataframe tbody tr th {\n",
       "        vertical-align: top;\n",
       "    }\n",
       "</style>\n",
       "<table border=\"1\" class=\"dataframe\">\n",
       "  <thead>\n",
       "    <tr style=\"text-align: right;\">\n",
       "      <th></th>\n",
       "      <th>Country</th>\n",
       "      <th>2003_female</th>\n",
       "      <th>2004_female</th>\n",
       "      <th>2005_female</th>\n",
       "      <th>2006_female</th>\n",
       "      <th>2007_female</th>\n",
       "    </tr>\n",
       "  </thead>\n",
       "  <tbody>\n",
       "    <tr>\n",
       "      <th>49</th>\n",
       "      <td>Egypt</td>\n",
       "      <td>28.700001</td>\n",
       "      <td>29.1</td>\n",
       "      <td>29.5</td>\n",
       "      <td>29.700001</td>\n",
       "      <td>30.200001</td>\n",
       "    </tr>\n",
       "  </tbody>\n",
       "</table>\n",
       "</div>"
      ],
      "text/plain": [
       "   Country  2003_female  2004_female  2005_female  2006_female  2007_female\n",
       "49   Egypt    28.700001         29.1         29.5    29.700001    30.200001"
      ]
     },
     "execution_count": 18,
     "metadata": {},
     "output_type": "execute_result"
    }
   ],
   "source": [
    "##creating a series \"eg_fem_df\" of selected country \"Egypt\" to return female labour indicator from 2003 to 2007.\n",
    "eg_fem_df = new_df.loc[[49], ['Country','2003_female','2004_female','2005_female','2006_female','2007_female']]\n",
    "eg_fem_df"
   ]
  },
  {
   "cell_type": "code",
   "execution_count": 19,
   "metadata": {},
   "outputs": [
    {
     "data": {
      "text/html": [
       "<div>\n",
       "<style>\n",
       "    .dataframe thead tr:only-child th {\n",
       "        text-align: right;\n",
       "    }\n",
       "\n",
       "    .dataframe thead th {\n",
       "        text-align: left;\n",
       "    }\n",
       "\n",
       "    .dataframe tbody tr th {\n",
       "        vertical-align: top;\n",
       "    }\n",
       "</style>\n",
       "<table border=\"1\" class=\"dataframe\">\n",
       "  <thead>\n",
       "    <tr style=\"text-align: right;\">\n",
       "      <th></th>\n",
       "      <th>Year</th>\n",
       "      <th>Labour</th>\n",
       "      <th>Female</th>\n",
       "    </tr>\n",
       "  </thead>\n",
       "  <tbody>\n",
       "    <tr>\n",
       "      <th>0</th>\n",
       "      <td>2003</td>\n",
       "      <td>62.59</td>\n",
       "      <td>28.70</td>\n",
       "    </tr>\n",
       "    <tr>\n",
       "      <th>1</th>\n",
       "      <td>2004</td>\n",
       "      <td>62.79</td>\n",
       "      <td>29.1</td>\n",
       "    </tr>\n",
       "    <tr>\n",
       "      <th>2</th>\n",
       "      <td>2005</td>\n",
       "      <td>62.90</td>\n",
       "      <td>29.5</td>\n",
       "    </tr>\n",
       "    <tr>\n",
       "      <th>3</th>\n",
       "      <td>2006</td>\n",
       "      <td>63.0</td>\n",
       "      <td>29.7</td>\n",
       "    </tr>\n",
       "    <tr>\n",
       "      <th>4</th>\n",
       "      <td>2007</td>\n",
       "      <td>63.29</td>\n",
       "      <td>30.2</td>\n",
       "    </tr>\n",
       "  </tbody>\n",
       "</table>\n",
       "</div>"
      ],
      "text/plain": [
       "   Year Labour Female\n",
       "0  2003  62.59  28.70\n",
       "1  2004  62.79   29.1\n",
       "2  2005  62.90   29.5\n",
       "3  2006   63.0   29.7\n",
       "4  2007  63.29   30.2"
      ]
     },
     "execution_count": 19,
     "metadata": {},
     "output_type": "execute_result"
    }
   ],
   "source": [
    "# reshape the series of \"Egypt\" to combien the \"Labour Indicator\" and \"Femal Labour Indicator\", and return the reshaped series.\n",
    "d={\n",
    "    'Year':['2003','2004','2005','2006','2007'],\n",
    "    'Labour':['62.59','62.79','62.90','63.0','63.29'],\n",
    "    'Female':['28.70', '29.1','29.5','29.7','30.2']\n",
    "}\n",
    "eg_df = pd.DataFrame(d,columns=['Year','Labour','Female'])\n",
    "eg_df"
   ]
  },
  {
   "cell_type": "code",
   "execution_count": 20,
   "metadata": {},
   "outputs": [
    {
     "data": {
      "text/html": [
       "<div>\n",
       "<style>\n",
       "    .dataframe thead tr:only-child th {\n",
       "        text-align: right;\n",
       "    }\n",
       "\n",
       "    .dataframe thead th {\n",
       "        text-align: left;\n",
       "    }\n",
       "\n",
       "    .dataframe tbody tr th {\n",
       "        vertical-align: top;\n",
       "    }\n",
       "</style>\n",
       "<table border=\"1\" class=\"dataframe\">\n",
       "  <thead>\n",
       "    <tr style=\"text-align: right;\">\n",
       "      <th></th>\n",
       "      <th>Year</th>\n",
       "      <th>Labour</th>\n",
       "      <th>Female</th>\n",
       "    </tr>\n",
       "  </thead>\n",
       "  <tbody>\n",
       "    <tr>\n",
       "      <th>count</th>\n",
       "      <td>5</td>\n",
       "      <td>5</td>\n",
       "      <td>5</td>\n",
       "    </tr>\n",
       "    <tr>\n",
       "      <th>unique</th>\n",
       "      <td>5</td>\n",
       "      <td>5</td>\n",
       "      <td>5</td>\n",
       "    </tr>\n",
       "    <tr>\n",
       "      <th>top</th>\n",
       "      <td>2007</td>\n",
       "      <td>62.90</td>\n",
       "      <td>30.2</td>\n",
       "    </tr>\n",
       "    <tr>\n",
       "      <th>freq</th>\n",
       "      <td>1</td>\n",
       "      <td>1</td>\n",
       "      <td>1</td>\n",
       "    </tr>\n",
       "  </tbody>\n",
       "</table>\n",
       "</div>"
      ],
      "text/plain": [
       "        Year Labour Female\n",
       "count      5      5      5\n",
       "unique     5      5      5\n",
       "top     2007  62.90   30.2\n",
       "freq       1      1      1"
      ]
     },
     "execution_count": 20,
     "metadata": {},
     "output_type": "execute_result"
    }
   ],
   "source": [
    "# return the summary of \"eg_df\"\n",
    "eg_df.describe()"
   ]
  },
  {
   "cell_type": "markdown",
   "metadata": {},
   "source": [
    "# The Summary shows that:\n",
    "The count of rows (5) and all the values are unique, top of occurence was in 2006 (62.79%) in Labour Indicator and (29.1%) in Female Labour Indicator, and the frequancy of occurance was 1. "
   ]
  },
  {
   "cell_type": "code",
   "execution_count": 21,
   "metadata": {},
   "outputs": [
    {
     "data": {
      "image/png": "[encoded data removed]",
      "text/plain": [
       "<matplotlib.figure.Figure at 0x7f3738912048>"
      ]
     },
     "metadata": {
      "needs_background": "light"
     },
     "output_type": "display_data"
    }
   ],
   "source": [
    "#plotting Labour indicator and Female Labour Indicator in Egypt from 2003 to 2007.\n",
    "year=['2003','2004','2005','2006','2007']\n",
    "labour= [62.59,62.79,62.90,63.0,63.29]\n",
    "female= [28.70, 29.1,29.5,29.7,30.2]\n",
    "\n",
    "plt.plot(year, labour, color='b')\n",
    "plt.plot(year, female, color='orange')\n",
    "plt.title('Labour and Female Indicators in Egypt')\n",
    "plt.xlabel('Years')\n",
    "plt.ylabel('Percentage %')\n",
    "plt.legend(['Labour','Female'])\n",
    "plt.show()"
   ]
  },
  {
   "cell_type": "markdown",
   "metadata": {},
   "source": [
    "# The Line plot shows: \n",
    "1- Slightly increasing of Labour Indicator rate from 2003 (62.5%) to (63.2%) in 2007.\n",
    "2- Slightly increasing in Female Labour Indicator rate from 2003 (28.7%) to (30.2%) in 2007."
   ]
  },
  {
   "cell_type": "code",
   "execution_count": 22,
   "metadata": {},
   "outputs": [
    {
     "data": {
      "text/html": [
       "<div>\n",
       "<style>\n",
       "    .dataframe thead tr:only-child th {\n",
       "        text-align: right;\n",
       "    }\n",
       "\n",
       "    .dataframe thead th {\n",
       "        text-align: left;\n",
       "    }\n",
       "\n",
       "    .dataframe tbody tr th {\n",
       "        vertical-align: top;\n",
       "    }\n",
       "</style>\n",
       "<table border=\"1\" class=\"dataframe\">\n",
       "  <thead>\n",
       "    <tr style=\"text-align: right;\">\n",
       "      <th></th>\n",
       "      <th>Country</th>\n",
       "      <th>2003_labour</th>\n",
       "      <th>2004_labour</th>\n",
       "      <th>2005_labour</th>\n",
       "      <th>2006_labour</th>\n",
       "      <th>2007_labour</th>\n",
       "    </tr>\n",
       "  </thead>\n",
       "  <tbody>\n",
       "    <tr>\n",
       "      <th>150</th>\n",
       "      <td>Singapore</td>\n",
       "      <td>81.900002</td>\n",
       "      <td>82.300003</td>\n",
       "      <td>82.699997</td>\n",
       "      <td>83.199997</td>\n",
       "      <td>83.5</td>\n",
       "    </tr>\n",
       "  </tbody>\n",
       "</table>\n",
       "</div>"
      ],
      "text/plain": [
       "       Country  2003_labour  2004_labour  2005_labour  2006_labour  \\\n",
       "150  Singapore    81.900002    82.300003    82.699997    83.199997   \n",
       "\n",
       "     2007_labour  \n",
       "150         83.5  "
      ]
     },
     "execution_count": 22,
     "metadata": {},
     "output_type": "execute_result"
    }
   ],
   "source": [
    "#creating a series \"sin_lab_df\" of selected country \"Singapore\" to return labour indicator from 2003 to 2007.\n",
    "sin_lab_df = new_df.loc[[150], ['Country','2003_labour','2004_labour','2005_labour','2006_labour','2007_labour']]\n",
    "sin_lab_df"
   ]
  },
  {
   "cell_type": "code",
   "execution_count": 23,
   "metadata": {},
   "outputs": [
    {
     "data": {
      "text/html": [
       "<div>\n",
       "<style>\n",
       "    .dataframe thead tr:only-child th {\n",
       "        text-align: right;\n",
       "    }\n",
       "\n",
       "    .dataframe thead th {\n",
       "        text-align: left;\n",
       "    }\n",
       "\n",
       "    .dataframe tbody tr th {\n",
       "        vertical-align: top;\n",
       "    }\n",
       "</style>\n",
       "<table border=\"1\" class=\"dataframe\">\n",
       "  <thead>\n",
       "    <tr style=\"text-align: right;\">\n",
       "      <th></th>\n",
       "      <th>Country</th>\n",
       "      <th>2003_female</th>\n",
       "      <th>2004_female</th>\n",
       "      <th>2005_female</th>\n",
       "      <th>2006_female</th>\n",
       "      <th>2007_female</th>\n",
       "    </tr>\n",
       "  </thead>\n",
       "  <tbody>\n",
       "    <tr>\n",
       "      <th>150</th>\n",
       "      <td>Singapore</td>\n",
       "      <td>67.099998</td>\n",
       "      <td>68.0</td>\n",
       "      <td>68.900002</td>\n",
       "      <td>69.900002</td>\n",
       "      <td>70.5</td>\n",
       "    </tr>\n",
       "  </tbody>\n",
       "</table>\n",
       "</div>"
      ],
      "text/plain": [
       "       Country  2003_female  2004_female  2005_female  2006_female  \\\n",
       "150  Singapore    67.099998         68.0    68.900002    69.900002   \n",
       "\n",
       "     2007_female  \n",
       "150         70.5  "
      ]
     },
     "execution_count": 23,
     "metadata": {},
     "output_type": "execute_result"
    }
   ],
   "source": [
    "#creating a series \"sin_fem_df\" of selected country \"Singapore\" to return female labour indicator from 2003 to 2007.\n",
    "sin_fem_df = new_df.loc[[150], ['Country','2003_female','2004_female','2005_female','2006_female','2007_female']]\n",
    "sin_fem_df"
   ]
  },
  {
   "cell_type": "code",
   "execution_count": 24,
   "metadata": {},
   "outputs": [
    {
     "data": {
      "text/html": [
       "<div>\n",
       "<style>\n",
       "    .dataframe thead tr:only-child th {\n",
       "        text-align: right;\n",
       "    }\n",
       "\n",
       "    .dataframe thead th {\n",
       "        text-align: left;\n",
       "    }\n",
       "\n",
       "    .dataframe tbody tr th {\n",
       "        vertical-align: top;\n",
       "    }\n",
       "</style>\n",
       "<table border=\"1\" class=\"dataframe\">\n",
       "  <thead>\n",
       "    <tr style=\"text-align: right;\">\n",
       "      <th></th>\n",
       "      <th>Year</th>\n",
       "      <th>Labour</th>\n",
       "      <th>Female</th>\n",
       "    </tr>\n",
       "  </thead>\n",
       "  <tbody>\n",
       "    <tr>\n",
       "      <th>0</th>\n",
       "      <td>2003</td>\n",
       "      <td>81.90</td>\n",
       "      <td>67.09</td>\n",
       "    </tr>\n",
       "    <tr>\n",
       "      <th>1</th>\n",
       "      <td>2004</td>\n",
       "      <td>82.30</td>\n",
       "      <td>68.0</td>\n",
       "    </tr>\n",
       "    <tr>\n",
       "      <th>2</th>\n",
       "      <td>2005</td>\n",
       "      <td>82.69</td>\n",
       "      <td>68.90</td>\n",
       "    </tr>\n",
       "    <tr>\n",
       "      <th>3</th>\n",
       "      <td>2006</td>\n",
       "      <td>83.19</td>\n",
       "      <td>69.90</td>\n",
       "    </tr>\n",
       "    <tr>\n",
       "      <th>4</th>\n",
       "      <td>2007</td>\n",
       "      <td>83.5</td>\n",
       "      <td>70.5</td>\n",
       "    </tr>\n",
       "  </tbody>\n",
       "</table>\n",
       "</div>"
      ],
      "text/plain": [
       "   Year Labour Female\n",
       "0  2003  81.90  67.09\n",
       "1  2004  82.30   68.0\n",
       "2  2005  82.69  68.90\n",
       "3  2006  83.19  69.90\n",
       "4  2007   83.5   70.5"
      ]
     },
     "execution_count": 24,
     "metadata": {},
     "output_type": "execute_result"
    }
   ],
   "source": [
    "# reshape the series of \"Singapore\" to combien the \"Labour Indicator\" and \"Femal Labour Indicator\", and return the reshaped series.\n",
    "d={\n",
    "    'Year':['2003','2004','2005','2006','2007'],\n",
    "    'Labour':['81.90','82.30','82.69','83.19','83.5'],\n",
    "    'Female':['67.09', '68.0','68.90','69.90','70.5']\n",
    "}\n",
    "sin_df = pd.DataFrame(d,columns=['Year','Labour','Female'])\n",
    "sin_df"
   ]
  },
  {
   "cell_type": "code",
   "execution_count": 25,
   "metadata": {},
   "outputs": [
    {
     "data": {
      "text/html": [
       "<div>\n",
       "<style>\n",
       "    .dataframe thead tr:only-child th {\n",
       "        text-align: right;\n",
       "    }\n",
       "\n",
       "    .dataframe thead th {\n",
       "        text-align: left;\n",
       "    }\n",
       "\n",
       "    .dataframe tbody tr th {\n",
       "        vertical-align: top;\n",
       "    }\n",
       "</style>\n",
       "<table border=\"1\" class=\"dataframe\">\n",
       "  <thead>\n",
       "    <tr style=\"text-align: right;\">\n",
       "      <th></th>\n",
       "      <th>Year</th>\n",
       "      <th>Labour</th>\n",
       "      <th>Female</th>\n",
       "    </tr>\n",
       "  </thead>\n",
       "  <tbody>\n",
       "    <tr>\n",
       "      <th>count</th>\n",
       "      <td>5</td>\n",
       "      <td>5</td>\n",
       "      <td>5</td>\n",
       "    </tr>\n",
       "    <tr>\n",
       "      <th>unique</th>\n",
       "      <td>5</td>\n",
       "      <td>5</td>\n",
       "      <td>5</td>\n",
       "    </tr>\n",
       "    <tr>\n",
       "      <th>top</th>\n",
       "      <td>2007</td>\n",
       "      <td>82.69</td>\n",
       "      <td>68.0</td>\n",
       "    </tr>\n",
       "    <tr>\n",
       "      <th>freq</th>\n",
       "      <td>1</td>\n",
       "      <td>1</td>\n",
       "      <td>1</td>\n",
       "    </tr>\n",
       "  </tbody>\n",
       "</table>\n",
       "</div>"
      ],
      "text/plain": [
       "        Year Labour Female\n",
       "count      5      5      5\n",
       "unique     5      5      5\n",
       "top     2007  82.69   68.0\n",
       "freq       1      1      1"
      ]
     },
     "execution_count": 25,
     "metadata": {},
     "output_type": "execute_result"
    }
   ],
   "source": [
    "# return the summary of \"sin_df\"\n",
    "sin_df.describe()"
   ]
  },
  {
   "cell_type": "markdown",
   "metadata": {},
   "source": [
    "# The Summary shows that: \n",
    "The count of rows (5) and all the values are unique, top of occurence was in 2005 (81.90%) in Labour Indicator and (68.90%) in Female Labour Indicator, and the frequancy of occurance was 1. "
   ]
  },
  {
   "cell_type": "code",
   "execution_count": 26,
   "metadata": {},
   "outputs": [
    {
     "data": {
      "image/png": "[encoded data removed]",
      "text/plain": [
       "<matplotlib.figure.Figure at 0x7f3738891470>"
      ]
     },
     "metadata": {
      "needs_background": "light"
     },
     "output_type": "display_data"
    }
   ],
   "source": [
    "#plotting Labour indicator and Female Labour Indicator in Singapore from 2003 to 2007.\n",
    "year=['2003','2004','2005','2006','2007']\n",
    "labour= [81.90,82.30,82.69,83.19,83.5]\n",
    "female= [67.09, 68.0,68.90,69.90,70.5]\n",
    "\n",
    "plt.plot(year, labour, color='b')\n",
    "plt.plot(year, female, color='orange')\n",
    "plt.title('Labour and Female Indicators in Singapore')\n",
    "plt.xlabel('Years')\n",
    "plt.ylabel('Percentage %')\n",
    "plt.legend(['Labour','Female'])\n",
    "plt.show()"
   ]
  },
  {
   "cell_type": "markdown",
   "metadata": {},
   "source": [
    "# The Line plot shows:\n",
    "1- There is obvious increasing of Labour Indicator rate from 2003 (81.9%) to (83.5%) in 2007.\n",
    "2- Big increasing in Female Labour Indicator rate from 2003 (67.1%) to (70.5%) in 2007."
   ]
  },
  {
   "cell_type": "markdown",
   "metadata": {},
   "source": [
    "<a id='conclusions'></a>\n",
    "## Conclusions\n",
    "\n",
    "> **Tip**: Finally, summarize your findings and the results that have been performed. Make sure that you are clear with regards to the limitations of your exploration. If you haven't done any statistical tests, do not imply any statistical conclusions. And make sure you avoid implying causation from correlation!\n",
    "\n",
    "The findings of this project are:\n",
    "1- There is a trend can be observed between the Labour Indicator and Female Labour Indicator from 2003 to 2007, which means that as the \"Labour Indicator\" increases the \"Female Labour Indicator\" increases too, the min rate of labour in 2003 was (53.5%) and max rate was in 2006 and 2007 (97.19%).the female labour min rate in 2003 was (95.59%) and the max rate was in 2006 and 2007 (95.80%)\n",
    "2- The growing of Labour Indicator and Female Labour Indicator in Egypt is less than in Singapore, meaning, the growing of Labour Indicator in Egypt from 2003 to 2007 was (.7%) and Female Labour Indicator was (1.5%). On the Other hand, the Labour Indicator in Singapore was (1.6%) and Female Labour Indicator was (3.4%) in the same years.\n",
    "\n",
    "# Limitations:\n",
    "This dataset is an effective representation of the population, where there is no null, missing values nor duplicated values. Moreover we are not sure if the data provided to us is completely correct and up-to-date. As the values stated to percentage, so a disparity arises here which can state the complete wrong analysis.  \n",
    "\n",
    "## Submitting your Project \n",
    "\n",
    "> Before you submit your project, you need to create a .html or .pdf version of this notebook in the workspace here. To do that, run the code cell below. If it worked correctly, you should get a return code of 0, and you should see the generated .html file in the workspace directory (click on the orange Jupyter icon in the upper left).\n",
    "\n",
    "> Alternatively, you can download this report as .html via the **File** > **Download as** submenu, and then manually upload it into the workspace directory by clicking on the orange Jupyter icon in the upper left, then using the Upload button.\n",
    "\n",
    "> Once you've done this, you can submit your project by clicking on the \"Submit Project\" button in the lower right here. This will create and submit a zip file with this .ipynb doc and the .html or .pdf version you created. Congratulations!"
   ]
  },
  {
   "cell_type": "code",
   "execution_count": 27,
   "metadata": {},
   "outputs": [
    {
     "data": {
      "text/plain": [
       "0"
      ]
     },
     "execution_count": 27,
     "metadata": {},
     "output_type": "execute_result"
    }
   ],
   "source": [
    "from subprocess import call\n",
    "call(['python', '-m', 'nbconvert', 'Investigate_a_Dataset.ipynb'])"
   ]
  }
 ],
 "metadata": {
  "kernelspec": {
   "display_name": "Python 3",
   "language": "python",
   "name": "python3"
  },
  "language_info": {
   "codemirror_mode": {
    "name": "ipython",
    "version": 3
   },
   "file_extension": ".py",
   "mimetype": "text/x-python",
   "name": "python",
   "nbconvert_exporter": "python",
   "pygments_lexer": "ipython3",
   "version": "3.6.3"
  }
 },
 "nbformat": 4,
 "nbformat_minor": 2
}
